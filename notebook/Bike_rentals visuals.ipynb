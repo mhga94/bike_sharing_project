{
 "cells": [
  {
   "cell_type": "code",
   "execution_count": 2,
   "id": "45ce1d1e-847a-4410-8aef-64dcc3554fb0",
   "metadata": {},
   "outputs": [],
   "source": [
    "#Importing python packages\n",
    "import pandas as pd\n",
    "import numpy as np\n",
    "import matplotlib.pyplot as plt\n",
    "import seaborn as sns"
   ]
  },
  {
   "cell_type": "code",
   "execution_count": null,
   "id": "567199c1-38af-4620-9f91-cb0c4ae21458",
   "metadata": {},
   "outputs": [],
   "source": [
    "df1 = pd.read_csv(\"/Users/ryanvandenakker/Documents/Ironhack/Week 4/Group Project/data_from_sql/data_from_sql-1.csv\")\n",
    "df1"
   ]
  },
  {
   "cell_type": "code",
   "execution_count": null,
   "id": "9ac640e7-daf7-4652-9fee-ddd8f734080b",
   "metadata": {},
   "outputs": [],
   "source": [
    "#Plot the average temperature by Seasons\n",
    "season_mapping = {1: 'Winter', 2: 'Spring', 3: 'Summer', 4: 'Fall'}\n",
    "df1['season_name'] = df1['season'].map(season_mapping)\n",
    "\n",
    "# Plotting\n",
    "plt.figure(figsize=(8, 6))\n",
    "plt.bar(df1['season_name'], df1['average_temp'], color='skyblue')\n",
    "\n",
    "# Adding titles and labels\n",
    "plt.title('Average Temperature by Season')\n",
    "plt.xlabel('Season')\n",
    "plt.ylabel('Average Temperature')\n",
    "\n",
    "\n",
    "# Display the plot\n",
    "plt.savefig('temp_by_season.png')\n",
    "plt.show()"
   ]
  },
  {
   "cell_type": "code",
   "execution_count": null,
   "id": "88c068e6-6c68-4d2a-af76-e463a1f5a2b8",
   "metadata": {},
   "outputs": [],
   "source": [
    "# Plotting total rentals by season\n",
    "plt.figure(figsize=(8, 6))\n",
    "plt.bar(df1['season_name'], df1['total_rentals'], color='skyblue')\n",
    "\n",
    "# Adding titles and labels\n",
    "plt.title('Total Rentals by Season')\n",
    "plt.xlabel('Season')\n",
    "plt.ylabel('Total Rentals (in millions)')\n",
    "\n",
    "# Display the plot\n",
    "plt.show()"
   ]
  },
  {
   "cell_type": "code",
   "execution_count": null,
   "id": "8ebff1b7-4adf-48fd-b493-59ef4b610d6f",
   "metadata": {},
   "outputs": [],
   "source": [
    "#casual percentage\n",
    "df1['percentage_casual'] = (df1['casual_rentals'] / (df1['casual_rentals'] + df1['registered_rentals'])) * 100\n",
    "df1"
   ]
  },
  {
   "cell_type": "code",
   "execution_count": null,
   "id": "409a8ca9-836b-4218-8f4b-658ba921d199",
   "metadata": {},
   "outputs": [],
   "source": [
    "# Melt the DataFrame\n",
    "melted_df = pd.melt(df1, id_vars=['season_name'], value_vars=['casual_rentals', 'registered_rentals'],\n",
    "                    var_name='rental_type', value_name='all_rentals')\n",
    "display(melted_df)\n",
    "\n",
    "# Plotting\n",
    "fig, ax1 = plt.subplots(figsize=(10, 6))\n",
    "\n",
    "# Create a bar plot using seaborn\n",
    "sns.barplot(x='season_name', y='all_rentals', hue='rental_type', data=melted_df, palette='coolwarm', ax = ax1)\n",
    "\n",
    "# Adding titles and labels\n",
    "ax1.set_title('Casual and Registered Rentals by Season')\n",
    "ax1.set_xlabel('Season')\n",
    "ax1.set_ylabel('Number of Rentals')\n",
    "\n",
    "#Adding a second y-axis \n",
    "ax2 = ax1.twinx()\n",
    "sns.lineplot(x='season_name', y='percentage_casual', data=df1, color='green', marker='o', ax=ax2)\n",
    "ax2.set_ylabel('Percentage of Casual Users')\n",
    "ax2.set_yticks([0, 10, 20, 30])\n",
    "\n",
    "#Print and display the plot\n",
    "plt.savefig('rental_by_season.png')\n",
    "plt.show()"
   ]
  },
  {
   "cell_type": "code",
   "execution_count": null,
   "id": "c91048e9-e5f4-4416-813c-04e21ea6298b",
   "metadata": {},
   "outputs": [],
   "source": [
    "df2 = pd.read_csv(\"/Users/ryanvandenakker/Documents/Ironhack/Week 4/Group Project/data_from_sql/data_from_sql-2.csv\")\n",
    "df2"
   ]
  },
  {
   "cell_type": "code",
   "execution_count": null,
   "id": "1d5296fa-8c80-46f9-aa1e-9b51ff1e58ce",
   "metadata": {},
   "outputs": [],
   "source": [
    "#Renaming the values in the temperature column using map()\n",
    "temp_mapping = {'A1. 0-10°C':'0-10°C', 'A2. 10-20°C':'10-20°C', 'A3. 20-30°C':'20-30°C', 'A3. 30-40°C':'30-40°C' , 'A4. Above 40°C': 'Above 40°C'}\n",
    "df2['temp_name'] = df2['temp_range'].map(temp_mapping)\n",
    "df2"
   ]
  },
  {
   "cell_type": "code",
   "execution_count": null,
   "id": "9110e760-1f56-47e3-9dbe-8db5ca61bf57",
   "metadata": {},
   "outputs": [],
   "source": [
    "# Melt the DataFrame\n",
    "melted_df2 = pd.melt(df2, id_vars=['temp_name'], value_vars=['casual_rentals', 'registered_rentals'],\n",
    "                    var_name='rental_type', value_name='all_rentals')\n",
    "display(melted_df2)\n",
    "\n",
    "# Plotting\n",
    "fig, ax1 = plt.subplots(figsize=(10, 6))\n",
    "\n",
    "# Create a bar plot using seaborn\n",
    "sns.barplot(x='temp_name', y='all_rentals', hue='rental_type', data=melted_df2, palette='coolwarm', ax = ax1)\n",
    "\n",
    "# Adding titles and labels\n",
    "ax1.set_title('Casual and Registered Rentals by Temperature')\n",
    "ax1.set_xlabel('Temperature')\n",
    "ax1.set_ylabel('Number of Rentals')\n",
    "\n",
    "\n",
    "ax2 = ax1.twinx()\n",
    "sns.lineplot(x='temp_name', y='casual_percentage', data=df2, color='green', marker='o', ax=ax2)\n",
    "ax2.set_ylabel('Percentage of Casual Users')\n",
    "ax2.set_yticks([0, 10, 20, 30])\n",
    "\n",
    "plt.savefig('rental_by_temp.png')\n",
    "plt.show()"
   ]
  },
  {
   "cell_type": "code",
   "execution_count": null,
   "id": "5d32c9d0-9e5b-4881-a532-b01177da0cd2",
   "metadata": {},
   "outputs": [],
   "source": [
    "df3 = pd.read_csv(\"/Users/ryanvandenakker/Documents/Ironhack/Week 4/Group Project/data_from_sql/data_from_sql-3.csv\")\n",
    "df3"
   ]
  },
  {
   "cell_type": "code",
   "execution_count": null,
   "id": "5378d135-f699-4652-8a02-1cae349ef9f6",
   "metadata": {},
   "outputs": [],
   "source": [
    "#Plot the total rentals by weather condition\n",
    "weather_mapping = {1: 'Clear', 2: 'Cloudy', 3: 'Light Precipitation', 4: 'Heavy Precipitation'}\n",
    "df3['weather_name'] = df3['weathersit'].map(weather_mapping)\n",
    "\n",
    "#Plotting\n",
    "plt.figure(figsize=(8, 6))\n",
    "plt.bar(df3['weather_name'], df3['total_rentals'], color='skyblue')\n",
    "\n",
    "# Adding titles and labels\n",
    "plt.title('Total Rentals by Weather Condition')\n",
    "plt.xlabel('Weather Condition')\n",
    "plt.ylabel('Total Rentals')\n",
    "\n",
    "\n",
    "# Display the plot\n",
    "plt.show()"
   ]
  },
  {
   "cell_type": "code",
   "execution_count": null,
   "id": "be0f0565-b2a3-46dd-abd0-f46e2f018955",
   "metadata": {},
   "outputs": [],
   "source": [
    "#casual percentage\n",
    "df3['percentage_casual'] = (df3['casual_rentals'] / (df3['casual_rentals'] + df3['registered_rentals'])) * 100\n",
    "df3"
   ]
  },
  {
   "cell_type": "code",
   "execution_count": null,
   "id": "cd62f0a2-b307-40c3-86cb-46bf4ca7b04d",
   "metadata": {},
   "outputs": [],
   "source": [
    "# Melt the DataFrame\n",
    "melted_df3 = pd.melt(df3, id_vars=['weather_name'], value_vars=['casual_rentals', 'registered_rentals'],\n",
    "                    var_name='rental_type', value_name='all_rentals')\n",
    "display(melted_df3)\n",
    "\n",
    "# Plotting\n",
    "fig, ax1 = plt.subplots(figsize=(10, 6))\n",
    "\n",
    "# Create a bar plot using seaborn\n",
    "sns.barplot(x='weather_name', y='all_rentals', hue='rental_type', data=melted_df3, palette='coolwarm', ax = ax1)\n",
    "\n",
    "# Adding titles and labels\n",
    "ax1.set_title('Casual and Registered Rentals by Weather Condition')\n",
    "ax1.set_xlabel('Weather Condition')\n",
    "ax1.set_ylabel('Number of Rentals')\n",
    "\n",
    "ax2 = ax1.twinx()\n",
    "sns.lineplot(x= 'weather_name', y='percentage_casual', data=df3, color='green', marker='o', ax=ax2)\n",
    "ax2.set_ylabel('Percentage of Casual Users')\n",
    "ax2.set_yticks([0, 10, 20, 30])\n",
    "\n",
    "plt.savefig('rental_by_weather_condition.png')\n",
    "plt.show()"
   ]
  },
  {
   "cell_type": "code",
   "execution_count": null,
   "id": "f26c21a3-ce06-4260-8a04-4fe412bad340",
   "metadata": {},
   "outputs": [],
   "source": [
    "df4 = pd.read_csv(\"/Users/ryanvandenakker/Documents/Ironhack/Week 4/Group Project/data_from_sql/data_from_sql-4.csv\")\n",
    "df4"
   ]
  },
  {
   "cell_type": "code",
   "execution_count": null,
   "id": "b2b8deb2-981a-487d-8729-35dc53971f54",
   "metadata": {},
   "outputs": [],
   "source": [
    "wind_mapping = {'A1.light air': 'light air', 'A2. gentle breeze': 'gentle breeze', 'A2. moderate breeze': 'moderate breeze', 'A3. strong breeze': 'strong breeze', 'A4. strong gale':'strong gale', 'A5. violent storm':'violent storm'}\n",
    "df4['wind_name'] = df4['windspeed_range'].map(wind_mapping)\n",
    "df4"
   ]
  },
  {
   "cell_type": "code",
   "execution_count": null,
   "id": "812acc44-bff8-432e-9cb8-f0b85fb9b840",
   "metadata": {},
   "outputs": [],
   "source": [
    "# Melt the DataFrame\n",
    "melted_df4 = pd.melt(df4, id_vars=['wind_name'], value_vars=['casual_rentals', 'registered_rentals'],\n",
    "                    var_name='rental_type', value_name='all_rentals')\n",
    "#display(melted_df4)\n",
    "\n",
    "# Plotting\n",
    "fig, ax1 = plt.subplots(figsize=(10, 6))\n",
    "\n",
    "# Create a bar plot using seaborn\n",
    "sns.barplot(x='wind_name', y='all_rentals', hue='rental_type', data=melted_df4, palette='coolwarm', ax = ax1)\n",
    "\n",
    "# Adding titles and labels\n",
    "ax1.set_title('Casual and Registered Rentals by Winspeed')\n",
    "ax1.set_xlabel('Wind Speed')\n",
    "ax1.set_ylabel('Number of Rentals')\n",
    "\n",
    "ax2 = ax1.twinx()\n",
    "sns.lineplot(x= 'wind_name', y='ratio', data=df4, color='green', marker='o', ax=ax2)\n",
    "ax2.set_ylabel('Percentage of Casual Users')\n",
    "ax2.set_yticks([0, 10, 20, 30, 40, 50])\n",
    "\n",
    "plt.savefig('rental_by_windspeed.png')\n",
    "plt.show()"
   ]
  },
  {
   "cell_type": "code",
   "execution_count": null,
   "id": "45d5bffe-65bf-45bf-8b39-667dd0d2643b",
   "metadata": {},
   "outputs": [],
   "source": [
    "df5 = pd.read_csv(\"/Users/ryanvandenakker/Documents/Ironhack/Week 4/Group Project/data_from_sql/data_from_sql.csv\")\n",
    "df5"
   ]
  },
  {
   "cell_type": "code",
   "execution_count": null,
   "id": "7e79edfe-4bc2-4168-b31d-a17a75e6d6aa",
   "metadata": {},
   "outputs": [],
   "source": [
    "hum_mapping = {'A1.dry': 'Dry', 'A2. normal': 'Normal', 'A3. humid': 'Humid'}\n",
    "df5['hum_name'] = df5['hum_range'].map(hum_mapping)\n",
    "display(df5)\n",
    "\n",
    "#Plotting\n",
    "plt.figure(figsize=(8, 6))\n",
    "plt.bar(df5['hum_name'], df5['total_rentals'], color='skyblue')\n",
    "\n",
    "# Adding titles and labels\n",
    "plt.title('Total Rentals by Humidity')\n",
    "plt.xlabel('Humidity')\n",
    "plt.ylabel('Total Rentals')\n",
    "\n",
    "\n",
    "# Display the plot\n",
    "plt.show()"
   ]
  },
  {
   "cell_type": "code",
   "execution_count": null,
   "id": "1d733cec-40e4-4a4e-81b6-aadecf249f68",
   "metadata": {},
   "outputs": [],
   "source": [
    "# Melt the DataFrame\n",
    "melted_df5 = pd.melt(df5, id_vars=['hum_name'], value_vars=['casual_rentals', 'registered_rentals'],\n",
    "                    var_name='rental_type', value_name='all_rentals')\n",
    "\n",
    "\n",
    "# Plotting\n",
    "fig, ax1 = plt.subplots(figsize=(10, 6))\n",
    "\n",
    "# Create a bar plot using seaborn\n",
    "sns.barplot(x='hum_name', y='all_rentals', hue='rental_type', data=melted_df5, palette='coolwarm', ax = ax1)\n",
    "\n",
    "# Adding titles and labels\n",
    "ax1.set_title('Casual and Registered Rentals by Winspeed')\n",
    "ax1.set_xlabel('Wind Speed')\n",
    "ax1.set_ylabel('Number of Rentals')\n",
    "#ax1.tick_params(axis='x', rotation = 45)\n",
    "\n",
    "ax2 = ax1.twinx()\n",
    "sns.lineplot(x= 'hum_name', y='casual_percentage', data=df5, color='green', marker='o', ax=ax2)\n",
    "ax2.set_ylabel('Percentage of Casual Users')\n",
    "ax2.set_yticks([0, 10, 20, 30, 40, 50])\n",
    "\n",
    "plt.savefig('Humidity.png')\n",
    "plt.show()"
   ]
  },
  {
   "cell_type": "code",
   "execution_count": null,
   "id": "61c99eec-85d7-48f5-9e2f-761be59ebd72",
   "metadata": {},
   "outputs": [],
   "source": [
    "df6 = pd.read_csv(\"/Users/ryanvandenakker/Documents/Ironhack/Week 4/Group Project/data_from_sql/segmented_monthly_rentals.csv\")\n",
    "df_table1 = df6.loc[0:11]\n",
    "df_table1"
   ]
  },
  {
   "cell_type": "code",
   "execution_count": null,
   "id": "dd9839f0-3b37-4367-b8b4-5af7bc51e9e4",
   "metadata": {},
   "outputs": [],
   "source": [
    "month_mapping = {'2011-01': 'Jan', '2011-02': 'Feb', '2011-03': 'Mar', '2011-04':'Apr', '2011-05':'May', '2011-06':'Jun', '2011-07':'Jul', '2011-08':'Aug', '2011-09':'Sep', '2011-10':'Oct', '2011-11':'Nov', '2011-12':'Dec'}\n",
    "df_table1['month'] = df_table1['Date_month'].map(month_mapping)"
   ]
  },
  {
   "cell_type": "code",
   "execution_count": null,
   "id": "dc1294d5-e085-4726-80ee-ddefed2c69a9",
   "metadata": {},
   "outputs": [],
   "source": [
    "# Melt the DataFrame\n",
    "melted_df6 = pd.melt(df_table1, id_vars=['month'], value_vars=['Casual_rentals', 'Registered_rentals'],\n",
    "                    var_name='rental_type', value_name='all_rentals')\n",
    "\n",
    "# Plotting\n",
    "plt.figure(figsize=(10, 6))\n",
    "\n",
    "# Create a bar plot using seaborn\n",
    "sns.barplot(x='month', y='all_rentals', hue='rental_type', data=melted_df6, palette='coolwarm')\n",
    "\n",
    "# Adding titles and labels\n",
    "plt.title('Casual and Registered Rentals in 2011 by Month')\n",
    "plt.xlabel('Month')\n",
    "plt.ylabel('Number of Rentals')\n",
    "plt.yticks(range(0, 175000))\n",
    "\n",
    "# Display the plot\n",
    "plt.savefig('2011_rentals.png')\n",
    "plt.show()"
   ]
  },
  {
   "cell_type": "code",
   "execution_count": null,
   "id": "16978f85-8880-4691-b153-7363ca9821a7",
   "metadata": {},
   "outputs": [],
   "source": [
    "df_table2 = df6.loc[12:]\n",
    "df_table2"
   ]
  },
  {
   "cell_type": "code",
   "execution_count": null,
   "id": "dfa4b430-08e7-4fd5-b179-4512b309189a",
   "metadata": {},
   "outputs": [],
   "source": [
    "month_mapping = {'2012-01': 'Jan', '2012-02': 'Feb', '2012-03': 'Mar', '2012-04':'Apr', '2012-05':'May', '2012-06':'Jun', '2012-07':'Jul', '2012-08':'Aug', '2012-09':'Sep', '2012-10':'Oct', '2012-11':'Nov', '2012-12':'Dec'}\n",
    "df_table2['month'] = df_table2['Date_month'].map(month_mapping)\n",
    "df_table2"
   ]
  },
  {
   "cell_type": "code",
   "execution_count": null,
   "id": "e6763fb8-35f8-4dd9-a597-90c43d2e8124",
   "metadata": {},
   "outputs": [],
   "source": [
    "# Melt the DataFrame\n",
    "melted_df7 = pd.melt(df_table2, id_vars=['month'], value_vars=['Casual_rentals', 'Registered_rentals'],\n",
    "                    var_name='rental_type', value_name='all_rentals')\n",
    "\n",
    "# Plotting\n",
    "plt.figure(figsize=(10, 6))\n",
    "\n",
    "# Create a bar plot using seaborn\n",
    "sns.barplot(x='month', y='all_rentals', hue='rental_type', data=melted_df7, palette='coolwarm')\n",
    "\n",
    "# Adding titles and labels\n",
    "plt.title('Casual and Registered Rentals in 2012 by Month')\n",
    "plt.xlabel('Month')\n",
    "plt.ylabel('Number of Rentals')\n",
    "\n",
    "# Display the plot\n",
    "plt.savefig('2012_rentals.png')\n",
    "plt.show()"
   ]
  },
  {
   "cell_type": "code",
   "execution_count": 13,
   "id": "392daeb8-50ad-402a-8451-a2f3c6cf705f",
   "metadata": {},
   "outputs": [
    {
     "data": {
      "text/html": [
       "<div>\n",
       "<style scoped>\n",
       "    .dataframe tbody tr th:only-of-type {\n",
       "        vertical-align: middle;\n",
       "    }\n",
       "\n",
       "    .dataframe tbody tr th {\n",
       "        vertical-align: top;\n",
       "    }\n",
       "\n",
       "    .dataframe thead th {\n",
       "        text-align: right;\n",
       "    }\n",
       "</style>\n",
       "<table border=\"1\" class=\"dataframe\">\n",
       "  <thead>\n",
       "    <tr style=\"text-align: right;\">\n",
       "      <th></th>\n",
       "      <th>weekday</th>\n",
       "      <th>day_name</th>\n",
       "      <th>casual_rentals</th>\n",
       "      <th>registered_rentals</th>\n",
       "    </tr>\n",
       "  </thead>\n",
       "  <tbody>\n",
       "    <tr>\n",
       "      <th>0</th>\n",
       "      <td>0</td>\n",
       "      <td>Sunday</td>\n",
       "      <td>140521</td>\n",
       "      <td>303506</td>\n",
       "    </tr>\n",
       "    <tr>\n",
       "      <th>1</th>\n",
       "      <td>1</td>\n",
       "      <td>Monday</td>\n",
       "      <td>70784</td>\n",
       "      <td>384719</td>\n",
       "    </tr>\n",
       "    <tr>\n",
       "      <th>2</th>\n",
       "      <td>2</td>\n",
       "      <td>Tuesday</td>\n",
       "      <td>57843</td>\n",
       "      <td>411266</td>\n",
       "    </tr>\n",
       "    <tr>\n",
       "      <th>3</th>\n",
       "      <td>3</td>\n",
       "      <td>Wednesday</td>\n",
       "      <td>57319</td>\n",
       "      <td>415729</td>\n",
       "    </tr>\n",
       "    <tr>\n",
       "      <th>4</th>\n",
       "      <td>4</td>\n",
       "      <td>Thursday</td>\n",
       "      <td>61460</td>\n",
       "      <td>423935</td>\n",
       "    </tr>\n",
       "    <tr>\n",
       "      <th>5</th>\n",
       "      <td>5</td>\n",
       "      <td>Friday</td>\n",
       "      <td>78238</td>\n",
       "      <td>409552</td>\n",
       "    </tr>\n",
       "    <tr>\n",
       "      <th>6</th>\n",
       "      <td>6</td>\n",
       "      <td>Saturday</td>\n",
       "      <td>153852</td>\n",
       "      <td>323955</td>\n",
       "    </tr>\n",
       "  </tbody>\n",
       "</table>\n",
       "</div>"
      ],
      "text/plain": [
       "   weekday   day_name  casual_rentals  registered_rentals\n",
       "0        0     Sunday          140521              303506\n",
       "1        1     Monday           70784              384719\n",
       "2        2    Tuesday           57843              411266\n",
       "3        3  Wednesday           57319              415729\n",
       "4        4   Thursday           61460              423935\n",
       "5        5     Friday           78238              409552\n",
       "6        6   Saturday          153852              323955"
      ]
     },
     "execution_count": 13,
     "metadata": {},
     "output_type": "execute_result"
    }
   ],
   "source": [
    "df7 = pd.read_csv(\"/Users/ryanvandenakker/Documents/Ironhack/Week 4/Group Project/data_from_sql/segmented_weekday_rentals.csv\")\n",
    "df7"
   ]
  },
  {
   "cell_type": "code",
   "execution_count": null,
   "id": "cf2640a7-bc89-4a38-b6cf-2ed87b1efd72",
   "metadata": {},
   "outputs": [],
   "source": [
    "# Melt the DataFrame\n",
    "melted_df8 = pd.melt(df7, id_vars=['day_name'], value_vars=['casual_rentals', 'registered_rentals'],\n",
    "                    var_name='rental_type', value_name='all_rentals')\n",
    "\n",
    "# Plotting\n",
    "plt.figure(figsize=(12, 5))\n",
    "\n",
    "# Create a bar plot using seaborn\n",
    "sns.barplot(x='day_name', y='all_rentals', hue='rental_type', data=melted_df8, palette='coolwarm')\n",
    "\n",
    "# Adding titles and labels\n",
    "plt.title('Casual and Registered Rentals by Day of the Week')\n",
    "plt.xlabel('Day of the Week')\n",
    "plt.ylabel('Number of Rentals')\n",
    "\n",
    "# Display the plot\n",
    "plt.savefig('weekday_rentals.png')\n",
    "plt.show()"
   ]
  },
  {
   "cell_type": "code",
   "execution_count": 3,
   "id": "4aba4ab3-f791-41b8-9246-dc2d11a8dfae",
   "metadata": {},
   "outputs": [
    {
     "data": {
      "text/html": [
       "<div>\n",
       "<style scoped>\n",
       "    .dataframe tbody tr th:only-of-type {\n",
       "        vertical-align: middle;\n",
       "    }\n",
       "\n",
       "    .dataframe tbody tr th {\n",
       "        vertical-align: top;\n",
       "    }\n",
       "\n",
       "    .dataframe thead th {\n",
       "        text-align: right;\n",
       "    }\n",
       "</style>\n",
       "<table border=\"1\" class=\"dataframe\">\n",
       "  <thead>\n",
       "    <tr style=\"text-align: right;\">\n",
       "      <th></th>\n",
       "      <th>workingday</th>\n",
       "      <th>day_type</th>\n",
       "      <th>casual_rentals</th>\n",
       "      <th>registered_rentals</th>\n",
       "    </tr>\n",
       "  </thead>\n",
       "  <tbody>\n",
       "    <tr>\n",
       "      <th>0</th>\n",
       "      <td>0</td>\n",
       "      <td>Not_working_day</td>\n",
       "      <td>316732</td>\n",
       "      <td>683537</td>\n",
       "    </tr>\n",
       "    <tr>\n",
       "      <th>1</th>\n",
       "      <td>1</td>\n",
       "      <td>Working_day</td>\n",
       "      <td>303285</td>\n",
       "      <td>1989125</td>\n",
       "    </tr>\n",
       "  </tbody>\n",
       "</table>\n",
       "</div>"
      ],
      "text/plain": [
       "   workingday         day_type  casual_rentals  registered_rentals\n",
       "0           0  Not_working_day          316732              683537\n",
       "1           1      Working_day          303285             1989125"
      ]
     },
     "execution_count": 3,
     "metadata": {},
     "output_type": "execute_result"
    }
   ],
   "source": [
    "df8 = pd.read_csv(\"/Users/ryanvandenakker/Documents/Ironhack/Week 4/Group Project/data_from_sql/segmented_workingday_rentals.csv\")\n",
    "df8"
   ]
  },
  {
   "cell_type": "code",
   "execution_count": null,
   "id": "adff3cce-313b-4a92-ba2c-90ae24cb26b6",
   "metadata": {},
   "outputs": [],
   "source": [
    "# Melt the DataFrame\n",
    "melted_df9 = pd.melt(df8, id_vars=['day_type'], value_vars=['casual_rentals', 'registered_rentals'],\n",
    "                    var_name='rental_type', value_name='all_rentals')\n",
    "\n",
    "# Plotting\n",
    "plt.figure(figsize=(10, 6))\n",
    "\n",
    "# Create a bar plot using seaborn\n",
    "sns.barplot(x='day_type', y='all_rentals', hue='rental_type', data=melted_df9, palette='coolwarm')\n",
    "\n",
    "# Adding titles and labels\n",
    "plt.title('Casual and Registered Rentals by Type of Day')\n",
    "plt.xlabel('Type of Day')\n",
    "plt.ylabel('Number of Rentals')\n",
    "\n",
    "# Display the plot\n",
    "plt.savefig('workingday_rentals.png')\n",
    "plt.show()"
   ]
  },
  {
   "cell_type": "code",
   "execution_count": 11,
   "id": "eefa6830-4961-4a2f-b472-17730b2ded00",
   "metadata": {},
   "outputs": [
    {
     "data": {
      "text/html": [
       "<div>\n",
       "<style scoped>\n",
       "    .dataframe tbody tr th:only-of-type {\n",
       "        vertical-align: middle;\n",
       "    }\n",
       "\n",
       "    .dataframe tbody tr th {\n",
       "        vertical-align: top;\n",
       "    }\n",
       "\n",
       "    .dataframe thead th {\n",
       "        text-align: right;\n",
       "    }\n",
       "</style>\n",
       "<table border=\"1\" class=\"dataframe\">\n",
       "  <thead>\n",
       "    <tr style=\"text-align: right;\">\n",
       "      <th></th>\n",
       "      <th>holiday</th>\n",
       "      <th>day_type</th>\n",
       "      <th>casual_rentals</th>\n",
       "      <th>registered_rentals</th>\n",
       "    </tr>\n",
       "  </thead>\n",
       "  <tbody>\n",
       "    <tr>\n",
       "      <th>0</th>\n",
       "      <td>0</td>\n",
       "      <td>Not_holiday</td>\n",
       "      <td>840.5402</td>\n",
       "      <td>3680.1177</td>\n",
       "    </tr>\n",
       "    <tr>\n",
       "      <th>1</th>\n",
       "      <td>1</td>\n",
       "      <td>Holiday</td>\n",
       "      <td>1117.9500</td>\n",
       "      <td>2803.8000</td>\n",
       "    </tr>\n",
       "  </tbody>\n",
       "</table>\n",
       "</div>"
      ],
      "text/plain": [
       "   holiday     day_type  casual_rentals  registered_rentals\n",
       "0        0  Not_holiday        840.5402           3680.1177\n",
       "1        1      Holiday       1117.9500           2803.8000"
      ]
     },
     "execution_count": 11,
     "metadata": {},
     "output_type": "execute_result"
    }
   ],
   "source": [
    "df9 = pd.read_csv(\"/Users/ryanvandenakker/Documents/Ironhack/Week 4/Group Project/data_from_sql/segmented_holiday_rentals3.csv\")\n",
    "df9"
   ]
  },
  {
   "cell_type": "code",
   "execution_count": 12,
   "id": "3d4ee901-6cae-463e-8513-7413561befaa",
   "metadata": {},
   "outputs": [
    {
     "data": {
      "image/png": "[encoded data removed]",
      "text/plain": [
       "<Figure size 1000x600 with 1 Axes>"
      ]
     },
     "metadata": {},
     "output_type": "display_data"
    }
   ],
   "source": [
    "# Melt the DataFrame\n",
    "melted_df10 = pd.melt(df9, id_vars=['day_type'], value_vars=['casual_rentals', 'registered_rentals'],\n",
    "                    var_name='rental_type', value_name='all_rentals')\n",
    "\n",
    "# Plotting\n",
    "plt.figure(figsize=(10, 6))\n",
    "\n",
    "# Create a bar plot using seaborn\n",
    "sns.barplot(x='day_type', y='all_rentals', hue='rental_type', data=melted_df10, palette='coolwarm')\n",
    "\n",
    "# Adding titles and labels\n",
    "plt.title('Casual and Registered Rentals by Holiday (per day)')\n",
    "plt.xlabel('Type of Day')\n",
    "plt.ylabel('Number of Rentals')\n",
    "\n",
    "# Display the plot\n",
    "plt.savefig('holiday_rentals.png')\n",
    "plt.show()"
   ]
  }
 ],
 "metadata": {
  "kernelspec": {
   "display_name": "Python 3 (ipykernel)",
   "language": "python",
   "name": "python3"
  },
  "language_info": {
   "codemirror_mode": {
    "name": "ipython",
    "version": 3
   },
   "file_extension": ".py",
   "mimetype": "text/x-python",
   "name": "python",
   "nbconvert_exporter": "python",
   "pygments_lexer": "ipython3",
   "version": "3.11.7"
  }
 },
 "nbformat": 4,
 "nbformat_minor": 5
}
